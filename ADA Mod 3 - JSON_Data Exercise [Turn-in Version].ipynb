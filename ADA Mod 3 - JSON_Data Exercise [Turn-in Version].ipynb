{
 "cells": [
  {
   "cell_type": "markdown",
   "metadata": {},
   "source": [
    "# JSON_Data Exercise [Turn-in Version] -- Larry Larkin\n"
   ]
  },
  {
   "cell_type": "markdown",
   "metadata": {},
   "source": [
    "\n",
    "### Load JSON file into Python list"
   ]
  },
  {
   "cell_type": "code",
   "execution_count": null,
   "metadata": {},
   "outputs": [],
   "source": [
    "import pandas as pd\n",
    "import json"
   ]
  },
  {
   "cell_type": "code",
   "execution_count": null,
   "metadata": {},
   "outputs": [],
   "source": [
    "filepath = \"Datasets/MC_Traffic_Violations.json\""
   ]
  },
  {
   "cell_type": "code",
   "execution_count": null,
   "metadata": {
    "scrolled": true
   },
   "outputs": [],
   "source": [
    "#data is individual JSON objects not separated by commas\n",
    "#will load data as JSON and put in bigger list to be able to extract values from keys\n",
    "\n",
    "data = []\n",
    "\n",
    "# Load all at once\n",
    "with open(filepath) as file:\n",
    "    data=(json.load(file))"
   ]
  },
  {
   "cell_type": "code",
   "execution_count": null,
   "metadata": {},
   "outputs": [],
   "source": [
    "#verify that this is a list type\n",
    "type(data)"
   ]
  },
  {
   "cell_type": "code",
   "execution_count": null,
   "metadata": {},
   "outputs": [],
   "source": [
    "#check number of items in data list\n",
    "#this is the total number of dictionaries in dataset\n",
    "len(data)"
   ]
  },
  {
   "cell_type": "code",
   "execution_count": null,
   "metadata": {},
   "outputs": [],
   "source": [
    "data.keys()"
   ]
  },
  {
   "cell_type": "code",
   "execution_count": null,
   "metadata": {},
   "outputs": [],
   "source": [
    "#Determine type of structure for 'data' key\n",
    "type(data['data'])"
   ]
  },
  {
   "cell_type": "markdown",
   "metadata": {},
   "source": [
    "#### Verify values within the data structure"
   ]
  },
  {
   "cell_type": "code",
   "execution_count": null,
   "metadata": {},
   "outputs": [],
   "source": [
    "# Display data structure and contents\n",
    "data['data']"
   ]
  },
  {
   "cell_type": "code",
   "execution_count": null,
   "metadata": {},
   "outputs": [],
   "source": [
    "#No. of traffic violations\n",
    "len(data['data'])"
   ]
  },
  {
   "cell_type": "code",
   "execution_count": null,
   "metadata": {},
   "outputs": [],
   "source": [
    "#Test navigation: Get date of first violation\n",
    "data['data'][1][9]"
   ]
  },
  {
   "cell_type": "code",
   "execution_count": null,
   "metadata": {},
   "outputs": [],
   "source": [
    "#Set violations list to a variable\n",
    "violations = data['data']"
   ]
  },
  {
   "cell_type": "code",
   "execution_count": null,
   "metadata": {},
   "outputs": [],
   "source": [
    "type(violations)"
   ]
  },
  {
   "cell_type": "code",
   "execution_count": null,
   "metadata": {},
   "outputs": [],
   "source": [
    "#initialize variables for empty lists to hold data\n",
    "#\n",
    "DateofStopls = []\n",
    "TimeofStopls = []\n",
    "Agencyls = []\n",
    "Subagencyls = []\n",
    "Descriptionls = []\n",
    "Locationls = []\n",
    "Latitudels = []\n",
    "Longitudels = []\n",
    "VehicleTypels = []\n",
    "VehicleYearls = []\n",
    "VehicleMakels = []\n",
    "VehicleModells = []\n",
    "VehicleColorls = []\n",
    "ViolationTypels = []\n",
    "Racels = []\n",
    "Genderls = []\n",
    "DriverStatels = []\n",
    "DriverLicenseStatels = []\n",
    "ArrestTypels = []"
   ]
  },
  {
   "cell_type": "code",
   "execution_count": null,
   "metadata": {},
   "outputs": [],
   "source": [
    "#Print a sample violation to verify data\n",
    "print(violations[9])"
   ]
  },
  {
   "cell_type": "code",
   "execution_count": null,
   "metadata": {},
   "outputs": [],
   "source": [
    "#Fill lists with data\n",
    "\n",
    "for violation in violations:  #data[index]\n",
    "    \n",
    "    DateofStopls.append(violation[9])\n",
    "    TimeofStopls.append(violation[10])\n",
    "    Agencyls.append(violation[11])\n",
    "    Subagencyls.append(violation[12])\n",
    "    Descriptionls.append(violation[13])\n",
    "    Locationls.append(violation[14])\n",
    "    Latitudels.append(violation[15])\n",
    "    Longitudels.append(violation[16])\n",
    "    VehicleTypels.append(violation[28])\n",
    "    VehicleYearls.append(violation[29])\n",
    "    VehicleMakels.append(violation[30])\n",
    "    VehicleModells.append(violation[31])\n",
    "    VehicleColorls.append(violation[32])\n",
    "    ViolationTypels.append(violation[33])\n",
    "    Racels.append(violation[37])\n",
    "    Genderls.append(violation[38])\n",
    "    DriverStatels.append(violation[40])\n",
    "    DriverLicenseStatels.append(violation[41])\n",
    "    ArrestTypels.append(violation[42])\n",
    "    "
   ]
  },
  {
   "cell_type": "code",
   "execution_count": null,
   "metadata": {},
   "outputs": [],
   "source": [
    "#verify amount of informaton in date list\n",
    "len(DateofStopls)"
   ]
  },
  {
   "cell_type": "code",
   "execution_count": null,
   "metadata": {},
   "outputs": [],
   "source": [
    "#see first 20 values within Description list\n",
    "Descriptionls[:20]"
   ]
  },
  {
   "cell_type": "code",
   "execution_count": null,
   "metadata": {},
   "outputs": [],
   "source": [
    "#check that values for each list add up to be the same\n",
    "\n",
    "print(len(DateofStopls))\n",
    "print(len(TimeofStopls))\n",
    "print(len(Agencyls))\n",
    "print(len(Subagencyls))\n",
    "print(len(Descriptionls))\n",
    "print(len(Locationls))\n",
    "print(len(Latitudels))\n",
    "print(len(Longitudels))\n",
    "print(len(VehicleTypels))\n",
    "print(len(VehicleYearls))\n",
    "print(len(VehicleMakels))         \n",
    "print(len(VehicleModells))\n",
    "print(len(VehicleColorls))\n",
    "print(len(ViolationTypels))\n",
    "print(len(Racels))\n",
    "print(len(Genderls))\n",
    "print(len(DriverStatels))\n",
    "print(len(DriverLicenseStatels))\n",
    "print(len(ArrestTypels))"
   ]
  },
  {
   "cell_type": "markdown",
   "metadata": {},
   "source": [
    "#### Make gathered information into dataframe"
   ]
  },
  {
   "cell_type": "code",
   "execution_count": null,
   "metadata": {},
   "outputs": [],
   "source": [
    "#zip lists together into one list\n",
    "#will put in order instructor wants columns to be\n",
    "ViolationsList = list(zip(DateofStopls, TimeofStopls, Agencyls, Subagencyls, Descriptionls, Locationls, Latitudels, Longitudels, VehicleTypels, VehicleYearls, VehicleMakels, VehicleModells, VehicleColorls, ViolationTypels, Racels, Genderls, DriverStatels, DriverLicenseStatels, ArrestTypels))\n",
    "       \n",
    "#make list of column names\n",
    "names = ['DateofStop', 'TimeofStop', 'Agency', 'Subagency', 'Description', 'Location', 'Latitude', 'Longitude', 'VehicleType', 'VehicleYear', 'VehicleMake', 'VehicleModel', 'VehicleColor', 'ViolationType', 'Race', 'Gender', 'DriverState', 'DriverLicenseState', 'ArrestType']\n"
   ]
  },
  {
   "cell_type": "code",
   "execution_count": null,
   "metadata": {},
   "outputs": [],
   "source": [
    "#make the dataframe\n",
    "df = pd.DataFrame(ViolationsList, columns=names)\n",
    "\n",
    "df.head()"
   ]
  }
 ],
 "metadata": {
  "kernelspec": {
   "display_name": "Python 3",
   "language": "python",
   "name": "python3"
  },
  "language_info": {
   "codemirror_mode": {
    "name": "ipython",
    "version": 3
   },
   "file_extension": ".py",
   "mimetype": "text/x-python",
   "name": "python",
   "nbconvert_exporter": "python",
   "pygments_lexer": "ipython3",
   "version": "3.7.1"
  }
 },
 "nbformat": 4,
 "nbformat_minor": 2
}
