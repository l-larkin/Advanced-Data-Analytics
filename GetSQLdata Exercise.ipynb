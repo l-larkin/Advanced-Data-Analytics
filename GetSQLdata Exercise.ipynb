{
 "cells": [
  {
   "cell_type": "markdown",
   "metadata": {},
   "source": [
    "# Load Data from Database Using SQL Exercise\n",
    "\n",
    "#"
   ]
  },
  {
   "cell_type": "code",
   "execution_count": 2,
   "metadata": {},
   "outputs": [],
   "source": [
    "#library to use dataframes\n",
    "import pandas as pd\n",
    "\n",
    "#library to connect & interact with databases\n",
    "from sqlalchemy import create_engine, inspect"
   ]
  },
  {
   "cell_type": "markdown",
   "metadata": {},
   "source": [
    "### Connect to Database"
   ]
  },
  {
   "cell_type": "code",
   "execution_count": 3,
   "metadata": {},
   "outputs": [],
   "source": [
    "#set the database file location to a variable\n",
    "db_file = r'Datasets/database.sqlite/database.sqlite'\n",
    "\n",
    "# set the connection to SQLite database in a variable\n",
    "engine = create_engine(f\"sqlite:///{db_file}\")"
   ]
  },
  {
   "cell_type": "code",
   "execution_count": 4,
   "metadata": {},
   "outputs": [
    {
     "data": {
      "text/plain": [
       "['BoardGames',\n",
       " 'bgg.ldaOut.top.documents',\n",
       " 'bgg.ldaOut.top.terms',\n",
       " 'bgg.ldaOut.topics',\n",
       " 'bgg.topics']"
      ]
     },
     "execution_count": 4,
     "metadata": {},
     "output_type": "execute_result"
    }
   ],
   "source": [
    "#get a list of all the tables in the database\n",
    "engine.table_names()"
   ]
  },
  {
   "cell_type": "code",
   "execution_count": 5,
   "metadata": {},
   "outputs": [
    {
     "data": {
      "text/plain": [
       "5"
      ]
     },
     "execution_count": 5,
     "metadata": {},
     "output_type": "execute_result"
    }
   ],
   "source": [
    "#get number of tables in the database\n",
    "len(engine.table_names())"
   ]
  },
  {
   "cell_type": "code",
   "execution_count": 6,
   "metadata": {},
   "outputs": [],
   "source": [
    "tables=engine.table_names()"
   ]
  },
  {
   "cell_type": "code",
   "execution_count": 16,
   "metadata": {},
   "outputs": [
    {
     "name": "stdout",
     "output_type": "stream",
     "text": [
      "['BoardGames', 'bgg.ldaOut.top.documents', 'bgg.ldaOut.top.terms', 'bgg.ldaOut.topics', 'bgg.topics']\n"
     ]
    }
   ],
   "source": [
    "print(tables)"
   ]
  },
  {
   "cell_type": "code",
   "execution_count": 7,
   "metadata": {},
   "outputs": [
    {
     "data": {
      "text/plain": [
       "'BoardGames'"
      ]
     },
     "execution_count": 7,
     "metadata": {},
     "output_type": "execute_result"
    }
   ],
   "source": [
    "current_table = tables[0]\n",
    "current_table"
   ]
  },
  {
   "cell_type": "code",
   "execution_count": 39,
   "metadata": {},
   "outputs": [
    {
     "name": "stdout",
     "output_type": "stream",
     "text": [
      "Table ,BoardGames, dimensions are,(90400, 81)\n",
      "Table ,bgg.ldaOut.top.documents, dimensions are,(288, 4)\n",
      "Table ,bgg.ldaOut.top.terms, dimensions are,(250, 4)\n",
      "Table ,bgg.ldaOut.topics, dimensions are,(29229, 2)\n",
      "Table ,bgg.topics, dimensions are,(29313, 74)\n"
     ]
    }
   ],
   "source": [
    "count = 0\n",
    "while (count < len(engine.table_names())):\n",
    "    #get the row from the current table being read\n",
    "    sql = f\"SELECT * FROM [{tables[count]}];\"\n",
    "    table_df=pd.read_sql(sql, engine)\n",
    "    print('Table ', tables[count], ' dimensions are', table_df.shape, sep=',')\n",
    "#    print(tables[count] ' dimensions are ' table_df.shape)\n",
    "    count = count + 1\n"
   ]
  },
  {
   "cell_type": "code",
   "execution_count": 20,
   "metadata": {},
   "outputs": [],
   "source": [
    "#get all the rows from the \"test\" table in the database\n",
    "sql = f\"SELECT * FROM [{tables[0]}];\""
   ]
  },
  {
   "cell_type": "code",
   "execution_count": 21,
   "metadata": {},
   "outputs": [],
   "source": [
    "table_df=pd.read_sql(sql, engine)"
   ]
  },
  {
   "cell_type": "code",
   "execution_count": 23,
   "metadata": {},
   "outputs": [
    {
     "data": {
      "text/plain": [
       "(90400, 81)"
      ]
     },
     "execution_count": 23,
     "metadata": {},
     "output_type": "execute_result"
    }
   ],
   "source": [
    "table_df.shape"
   ]
  },
  {
   "cell_type": "code",
   "execution_count": null,
   "metadata": {},
   "outputs": [],
   "source": [
    "#look at the schema of elements in a database\n",
    "inspector = inspect(engine)"
   ]
  },
  {
   "cell_type": "code",
   "execution_count": null,
   "metadata": {},
   "outputs": [],
   "source": [
    "# get the fields (columns) and their attributes for the table called \"test\"\n",
    "#this is a list where each item is a field(column)\n",
    "print(inspector.get_columns('Boardgames'))"
   ]
  },
  {
   "cell_type": "code",
   "execution_count": null,
   "metadata": {},
   "outputs": [],
   "source": [
    "#set the table column information to a variable\n",
    "fields = inspector.get_columns('Boardgames')"
   ]
  },
  {
   "cell_type": "code",
   "execution_count": null,
   "metadata": {},
   "outputs": [],
   "source": [
    "#put the information into a dataframe for readability\n",
    "field_names = pd.DataFrame.from_dict(fields)\n",
    "field_names"
   ]
  },
  {
   "cell_type": "markdown",
   "metadata": {},
   "source": [
    "### Collect Data\n",
    "\n",
    "In many situations, the easiest method of data collection from a database is to get all the rows from a table, then filter the data in Python. However, in some cases (especially when there are millions of rows) it is better to query the database with a specific condition (for example, to get all the rows in a table where the customers live in the state of Maryland) to reduce the load when the data is read in-memory to Jupyter Notebooks. The `pd.read_sql()` function will send a SQL query statement to the database, then return the information collected and put it into a pandas dataframe.\n",
    "\n",
    "Different database applications may have their own \"dialect\" of SQL but the general structure is consistent across all styles. Use this **[cheat sheet](http://www.sqltutorial.org/sql-cheat-sheet/)** to learn more SQL statement commands."
   ]
  },
  {
   "cell_type": "code",
   "execution_count": null,
   "metadata": {},
   "outputs": [],
   "source": [
    "#get all the rows from the \"test\" table in the database\n",
    "sql = \"SELECT * FROM test;\"\n",
    "\n",
    "#the read_sql function takes in the SQL statement for the information requested and the engine (to connect to database)\n",
    "sales_data_df = pd.read_sql(sql, engine)\n",
    "sales_data_df"
   ]
  },
  {
   "cell_type": "code",
   "execution_count": null,
   "metadata": {},
   "outputs": [],
   "source": [
    "#query with conditional\n",
    "#get all the rows where the student grade is a 76, 77, or 78\n",
    "sql = 'SELECT * FROM test WHERE Grades IN (76,77,78)'\n",
    "\n",
    "grades_df = pd.read_sql(sql, engine)\n",
    "grades_df"
   ]
  }
 ],
 "metadata": {
  "kernelspec": {
   "display_name": "Python 3",
   "language": "python",
   "name": "python3"
  },
  "language_info": {
   "codemirror_mode": {
    "name": "ipython",
    "version": 3
   },
   "file_extension": ".py",
   "mimetype": "text/x-python",
   "name": "python",
   "nbconvert_exporter": "python",
   "pygments_lexer": "ipython3",
   "version": "3.7.3"
  }
 },
 "nbformat": 4,
 "nbformat_minor": 2
}
