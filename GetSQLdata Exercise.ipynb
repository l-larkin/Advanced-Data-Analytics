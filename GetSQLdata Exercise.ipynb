{
 "cells": [
  {
   "cell_type": "markdown",
   "metadata": {},
   "source": [
    "# Load Data from Database Using SQL Exercise -- Larry Larkin\n",
    "\n",
    " "
   ]
  },
  {
   "cell_type": "code",
   "execution_count": 2,
   "metadata": {},
   "outputs": [],
   "source": [
    "#library to use dataframes\n",
    "import pandas as pd\n",
    "\n",
    "#library to connect & interact with databases\n",
    "from sqlalchemy import create_engine, inspect"
   ]
  },
  {
   "cell_type": "markdown",
   "metadata": {},
   "source": [
    "### Connect to Database"
   ]
  },
  {
   "cell_type": "code",
   "execution_count": 3,
   "metadata": {},
   "outputs": [],
   "source": [
    "#set the database file location to a variable\n",
    "db_file = r'Datasets/database.sqlite/database.sqlite'\n",
    "\n",
    "# set the connection to SQLite database in a variable\n",
    "engine = create_engine(f\"sqlite:///{db_file}\")"
   ]
  },
  {
   "cell_type": "code",
   "execution_count": 4,
   "metadata": {},
   "outputs": [
    {
     "data": {
      "text/plain": [
       "['BoardGames',\n",
       " 'bgg.ldaOut.top.documents',\n",
       " 'bgg.ldaOut.top.terms',\n",
       " 'bgg.ldaOut.topics',\n",
       " 'bgg.topics']"
      ]
     },
     "execution_count": 4,
     "metadata": {},
     "output_type": "execute_result"
    }
   ],
   "source": [
    "#get a list of all the tables in the database\n",
    "engine.table_names()"
   ]
  },
  {
   "cell_type": "code",
   "execution_count": 6,
   "metadata": {},
   "outputs": [],
   "source": [
    "tables=engine.table_names()"
   ]
  },
  {
   "cell_type": "code",
   "execution_count": 16,
   "metadata": {},
   "outputs": [
    {
     "name": "stdout",
     "output_type": "stream",
     "text": [
      "['BoardGames', 'bgg.ldaOut.top.documents', 'bgg.ldaOut.top.terms', 'bgg.ldaOut.topics', 'bgg.topics']\n"
     ]
    }
   ],
   "source": [
    "print(tables)"
   ]
  },
  {
   "cell_type": "code",
   "execution_count": 41,
   "metadata": {},
   "outputs": [
    {
     "name": "stdout",
     "output_type": "stream",
     "text": [
      "Table,BoardGames, dimensions are,(90400, 81)\n",
      "Table,bgg.ldaOut.top.documents, dimensions are,(288, 4)\n",
      "Table,bgg.ldaOut.top.terms, dimensions are,(250, 4)\n",
      "Table,bgg.ldaOut.topics, dimensions are,(29229, 2)\n",
      "Table,bgg.topics, dimensions are,(29313, 74)\n"
     ]
    }
   ],
   "source": [
    "# Read each table and printits dimensions\n",
    "count = 0\n",
    "while (count < len(engine.table_names())):\n",
    "    #get the row from the current table being read\n",
    "    sql = f\"SELECT * FROM [{tables[count]}];\"\n",
    "    table_df=pd.read_sql(sql, engine)\n",
    "    print('Table', tables[count], ' dimensions are', table_df.shape, sep=',')\n",
    "    count = count + 1\n"
   ]
  }
 ],
 "metadata": {
  "kernelspec": {
   "display_name": "Python 3",
   "language": "python",
   "name": "python3"
  },
  "language_info": {
   "codemirror_mode": {
    "name": "ipython",
    "version": 3
   },
   "file_extension": ".py",
   "mimetype": "text/x-python",
   "name": "python",
   "nbconvert_exporter": "python",
   "pygments_lexer": "ipython3",
   "version": "3.7.3"
  }
 },
 "nbformat": 4,
 "nbformat_minor": 2
}
